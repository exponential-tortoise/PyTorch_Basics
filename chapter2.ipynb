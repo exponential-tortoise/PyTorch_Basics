{
  "nbformat": 4,
  "nbformat_minor": 0,
  "metadata": {
    "colab": {
      "name": "chapter2.ipynb",
      "provenance": [],
      "authorship_tag": "ABX9TyM+lmCDiQ8suCajJTk+zmZb",
      "include_colab_link": true
    },
    "kernelspec": {
      "name": "python3",
      "display_name": "Python 3"
    },
    "language_info": {
      "name": "python"
    }
  },
  "cells": [
    {
      "cell_type": "markdown",
      "metadata": {
        "id": "view-in-github",
        "colab_type": "text"
      },
      "source": [
        "<a href=\"https://colab.research.google.com/github/rajoy99/PyTorch_Basics/blob/master/chapter2.ipynb\" target=\"_parent\"><img src=\"https://colab.research.google.com/assets/colab-badge.svg\" alt=\"Open In Colab\"/></a>"
      ]
    },
    {
      "cell_type": "code",
      "metadata": {
        "id": "pErw-nWE004t"
      },
      "source": [
        "from torchvision import models\n"
      ],
      "execution_count": 1,
      "outputs": []
    },
    {
      "cell_type": "code",
      "metadata": {
        "colab": {
          "base_uri": "https://localhost:8080/"
        },
        "id": "k87O3TpY1X8T",
        "outputId": "7b1b7599-495a-44e6-b54d-63b80bacd009"
      },
      "source": [
        "dir(models)"
      ],
      "execution_count": 2,
      "outputs": [
        {
          "output_type": "execute_result",
          "data": {
            "text/plain": [
              "['AlexNet',\n",
              " 'DenseNet',\n",
              " 'GoogLeNet',\n",
              " 'GoogLeNetOutputs',\n",
              " 'Inception3',\n",
              " 'InceptionOutputs',\n",
              " 'MNASNet',\n",
              " 'MobileNetV2',\n",
              " 'MobileNetV3',\n",
              " 'ResNet',\n",
              " 'ShuffleNetV2',\n",
              " 'SqueezeNet',\n",
              " 'VGG',\n",
              " '_GoogLeNetOutputs',\n",
              " '_InceptionOutputs',\n",
              " '__builtins__',\n",
              " '__cached__',\n",
              " '__doc__',\n",
              " '__file__',\n",
              " '__loader__',\n",
              " '__name__',\n",
              " '__package__',\n",
              " '__path__',\n",
              " '__spec__',\n",
              " '_utils',\n",
              " 'alexnet',\n",
              " 'densenet',\n",
              " 'densenet121',\n",
              " 'densenet161',\n",
              " 'densenet169',\n",
              " 'densenet201',\n",
              " 'detection',\n",
              " 'googlenet',\n",
              " 'inception',\n",
              " 'inception_v3',\n",
              " 'mnasnet',\n",
              " 'mnasnet0_5',\n",
              " 'mnasnet0_75',\n",
              " 'mnasnet1_0',\n",
              " 'mnasnet1_3',\n",
              " 'mobilenet',\n",
              " 'mobilenet_v2',\n",
              " 'mobilenet_v3_large',\n",
              " 'mobilenet_v3_small',\n",
              " 'mobilenetv2',\n",
              " 'mobilenetv3',\n",
              " 'quantization',\n",
              " 'resnet',\n",
              " 'resnet101',\n",
              " 'resnet152',\n",
              " 'resnet18',\n",
              " 'resnet34',\n",
              " 'resnet50',\n",
              " 'resnext101_32x8d',\n",
              " 'resnext50_32x4d',\n",
              " 'segmentation',\n",
              " 'shufflenet_v2_x0_5',\n",
              " 'shufflenet_v2_x1_0',\n",
              " 'shufflenet_v2_x1_5',\n",
              " 'shufflenet_v2_x2_0',\n",
              " 'shufflenetv2',\n",
              " 'squeezenet',\n",
              " 'squeezenet1_0',\n",
              " 'squeezenet1_1',\n",
              " 'utils',\n",
              " 'vgg',\n",
              " 'vgg11',\n",
              " 'vgg11_bn',\n",
              " 'vgg13',\n",
              " 'vgg13_bn',\n",
              " 'vgg16',\n",
              " 'vgg16_bn',\n",
              " 'vgg19',\n",
              " 'vgg19_bn',\n",
              " 'video',\n",
              " 'wide_resnet101_2',\n",
              " 'wide_resnet50_2']"
            ]
          },
          "metadata": {
            "tags": []
          },
          "execution_count": 2
        }
      ]
    },
    {
      "cell_type": "code",
      "metadata": {
        "colab": {
          "base_uri": "https://localhost:8080/"
        },
        "id": "7eAa-aTD1eYd",
        "outputId": "025f526a-9d95-4159-f81d-58e7318103aa"
      },
      "source": [
        "alexnet= models.AlexNet()\n",
        "alexnet"
      ],
      "execution_count": 4,
      "outputs": [
        {
          "output_type": "execute_result",
          "data": {
            "text/plain": [
              "AlexNet(\n",
              "  (features): Sequential(\n",
              "    (0): Conv2d(3, 64, kernel_size=(11, 11), stride=(4, 4), padding=(2, 2))\n",
              "    (1): ReLU(inplace=True)\n",
              "    (2): MaxPool2d(kernel_size=3, stride=2, padding=0, dilation=1, ceil_mode=False)\n",
              "    (3): Conv2d(64, 192, kernel_size=(5, 5), stride=(1, 1), padding=(2, 2))\n",
              "    (4): ReLU(inplace=True)\n",
              "    (5): MaxPool2d(kernel_size=3, stride=2, padding=0, dilation=1, ceil_mode=False)\n",
              "    (6): Conv2d(192, 384, kernel_size=(3, 3), stride=(1, 1), padding=(1, 1))\n",
              "    (7): ReLU(inplace=True)\n",
              "    (8): Conv2d(384, 256, kernel_size=(3, 3), stride=(1, 1), padding=(1, 1))\n",
              "    (9): ReLU(inplace=True)\n",
              "    (10): Conv2d(256, 256, kernel_size=(3, 3), stride=(1, 1), padding=(1, 1))\n",
              "    (11): ReLU(inplace=True)\n",
              "    (12): MaxPool2d(kernel_size=3, stride=2, padding=0, dilation=1, ceil_mode=False)\n",
              "  )\n",
              "  (avgpool): AdaptiveAvgPool2d(output_size=(6, 6))\n",
              "  (classifier): Sequential(\n",
              "    (0): Dropout(p=0.5, inplace=False)\n",
              "    (1): Linear(in_features=9216, out_features=4096, bias=True)\n",
              "    (2): ReLU(inplace=True)\n",
              "    (3): Dropout(p=0.5, inplace=False)\n",
              "    (4): Linear(in_features=4096, out_features=4096, bias=True)\n",
              "    (5): ReLU(inplace=True)\n",
              "    (6): Linear(in_features=4096, out_features=1000, bias=True)\n",
              "  )\n",
              ")"
            ]
          },
          "metadata": {
            "tags": []
          },
          "execution_count": 4
        }
      ]
    },
    {
      "cell_type": "code",
      "metadata": {
        "colab": {
          "base_uri": "https://localhost:8080/"
        },
        "id": "csVYett35knO",
        "outputId": "f7748d0b-f49e-4001-a067-c550e5e560d0"
      },
      "source": [
        "!pip install torchviz"
      ],
      "execution_count": 7,
      "outputs": [
        {
          "output_type": "stream",
          "text": [
            "Collecting torchviz\n",
            "  Downloading https://files.pythonhosted.org/packages/79/e7/643808913211d6c1fc96a3a4333bf4c9276858fab00bcafaf98ea58a97be/torchviz-0.0.2.tar.gz\n",
            "Requirement already satisfied: torch in /usr/local/lib/python3.7/dist-packages (from torchviz) (1.8.1+cu101)\n",
            "Requirement already satisfied: graphviz in /usr/local/lib/python3.7/dist-packages (from torchviz) (0.10.1)\n",
            "Requirement already satisfied: numpy in /usr/local/lib/python3.7/dist-packages (from torch->torchviz) (1.19.5)\n",
            "Requirement already satisfied: typing-extensions in /usr/local/lib/python3.7/dist-packages (from torch->torchviz) (3.7.4.3)\n",
            "Building wheels for collected packages: torchviz\n",
            "  Building wheel for torchviz (setup.py) ... \u001b[?25l\u001b[?25hdone\n",
            "  Created wheel for torchviz: filename=torchviz-0.0.2-cp37-none-any.whl size=4152 sha256=c7a1838cd41eca4ab5e0b1772161829c4354a719499ae368f4e5d2227b6797e1\n",
            "  Stored in directory: /root/.cache/pip/wheels/01/26/58/026ffd533dbe8b3972eb423da9c7949beca68d1c98ed9e8624\n",
            "Successfully built torchviz\n",
            "Installing collected packages: torchviz\n",
            "Successfully installed torchviz-0.0.2\n"
          ],
          "name": "stdout"
        }
      ]
    },
    {
      "cell_type": "markdown",
      "metadata": {
        "id": "bWex6jKB6kmc"
      },
      "source": [
        "<h2> Visualizing ALexnet Using Torchviz Package </h2>"
      ]
    },
    {
      "cell_type": "code",
      "metadata": {
        "colab": {
          "base_uri": "https://localhost:8080/",
          "height": 1000
        },
        "id": "ei9Paxp55ePl",
        "outputId": "512226d2-fbb7-4bc7-d5b3-6fb932e3868d"
      },
      "source": [
        "from torchviz import make_dot\n",
        "import torch\n",
        "\n",
        "x = torch.zeros(1, 3, 224, 224, dtype=torch.float, requires_grad=False)\n",
        "out = alexnet(x)\n",
        "make_dot(out) \n"
      ],
      "execution_count": 11,
      "outputs": [
        {
          "output_type": "execute_result",
          "data": {
            "text/plain": [
              "<graphviz.dot.Digraph at 0x7f27b193ca10>"
            ],
            "image/svg+xml": "<?xml version=\"1.0\" encoding=\"UTF-8\" standalone=\"no\"?>\n<!DOCTYPE svg PUBLIC \"-//W3C//DTD SVG 1.1//EN\"\n \"http://www.w3.org/Graphics/SVG/1.1/DTD/svg11.dtd\">\n<!-- Generated by graphviz version 2.40.1 (20161225.0304)\n -->\n<!-- Title: %3 Pages: 1 -->\n<svg width=\"858pt\" height=\"1242pt\"\n viewBox=\"0.00 0.00 857.99 1242.00\" xmlns=\"http://www.w3.org/2000/svg\" xmlns:xlink=\"http://www.w3.org/1999/xlink\">\n<g id=\"graph0\" class=\"graph\" transform=\"scale(.833 .833) rotate(0) translate(4 1487)\">\n<title>%3</title>\n<polygon fill=\"#ffffff\" stroke=\"transparent\" points=\"-4,4 -4,-1487 1026,-1487 1026,4 -4,4\"/>\n<!-- 139808474005248 -->\n<g id=\"node1\" class=\"node\">\n<title>139808474005248</title>\n<polygon fill=\"#caff70\" stroke=\"#000000\" points=\"859,-31 782,-31 782,0 859,0 859,-31\"/>\n<text text-anchor=\"middle\" x=\"820.5\" y=\"-7\" font-family=\"monospace\" font-size=\"10.00\" fill=\"#000000\"> (1, 1000)</text>\n</g>\n<!-- 139808459702864 -->\n<g id=\"node2\" class=\"node\">\n<title>139808459702864</title>\n<polygon fill=\"#d3d3d3\" stroke=\"#000000\" points=\"868,-86 773,-86 773,-67 868,-67 868,-86\"/>\n<text text-anchor=\"middle\" x=\"820.5\" y=\"-74\" font-family=\"monospace\" font-size=\"10.00\" fill=\"#000000\">AddmmBackward</text>\n</g>\n<!-- 139808459702864&#45;&gt;139808474005248 -->\n<g id=\"edge57\" class=\"edge\">\n<title>139808459702864&#45;&gt;139808474005248</title>\n<path fill=\"none\" stroke=\"#000000\" d=\"M820.5,-66.9688C820.5,-60.1289 820.5,-50.5621 820.5,-41.5298\"/>\n<polygon fill=\"#000000\" stroke=\"#000000\" points=\"824.0001,-41.3678 820.5,-31.3678 817.0001,-41.3678 824.0001,-41.3678\"/>\n</g>\n<!-- 139808459704464 -->\n<g id=\"node3\" class=\"node\">\n<title>139808459704464</title>\n<polygon fill=\"#d3d3d3\" stroke=\"#000000\" points=\"755,-141 654,-141 654,-122 755,-122 755,-141\"/>\n<text text-anchor=\"middle\" x=\"704.5\" y=\"-129\" font-family=\"monospace\" font-size=\"10.00\" fill=\"#000000\">AccumulateGrad</text>\n</g>\n<!-- 139808459704464&#45;&gt;139808459702864 -->\n<g id=\"edge1\" class=\"edge\">\n<title>139808459704464&#45;&gt;139808459702864</title>\n<path fill=\"none\" stroke=\"#000000\" d=\"M724.7057,-121.9197C742.9737,-113.2581 770.1018,-100.3957 790.8304,-90.5675\"/>\n<polygon fill=\"#000000\" stroke=\"#000000\" points=\"792.6004,-93.6018 800.1367,-86.155 789.6014,-87.2768 792.6004,-93.6018\"/>\n</g>\n<!-- 139809469076576 -->\n<g id=\"node4\" class=\"node\">\n<title>139809469076576</title>\n<polygon fill=\"#add8e6\" stroke=\"#000000\" points=\"734,-208 675,-208 675,-177 734,-177 734,-208\"/>\n<text text-anchor=\"middle\" x=\"704.5\" y=\"-184\" font-family=\"monospace\" font-size=\"10.00\" fill=\"#000000\"> (1000)</text>\n</g>\n<!-- 139809469076576&#45;&gt;139808459704464 -->\n<g id=\"edge2\" class=\"edge\">\n<title>139809469076576&#45;&gt;139808459704464</title>\n<path fill=\"none\" stroke=\"#000000\" d=\"M704.5,-176.791C704.5,-169.0249 704.5,-159.5706 704.5,-151.3129\"/>\n<polygon fill=\"#000000\" stroke=\"#000000\" points=\"708.0001,-151.0647 704.5,-141.0648 701.0001,-151.0648 708.0001,-151.0647\"/>\n</g>\n<!-- 139808459702480 -->\n<g id=\"node5\" class=\"node\">\n<title>139808459702480</title>\n<polygon fill=\"#d3d3d3\" stroke=\"#000000\" points=\"868,-141 773,-141 773,-122 868,-122 868,-141\"/>\n<text text-anchor=\"middle\" x=\"820.5\" y=\"-129\" font-family=\"monospace\" font-size=\"10.00\" fill=\"#000000\">ReluBackward1</text>\n</g>\n<!-- 139808459702480&#45;&gt;139808459702864 -->\n<g id=\"edge3\" class=\"edge\">\n<title>139808459702480&#45;&gt;139808459702864</title>\n<path fill=\"none\" stroke=\"#000000\" d=\"M820.5,-121.9197C820.5,-114.9083 820.5,-105.1442 820.5,-96.4652\"/>\n<polygon fill=\"#000000\" stroke=\"#000000\" points=\"824.0001,-96.3408 820.5,-86.3408 817.0001,-96.3409 824.0001,-96.3408\"/>\n</g>\n<!-- 139808459703952 -->\n<g id=\"node6\" class=\"node\">\n<title>139808459703952</title>\n<polygon fill=\"#d3d3d3\" stroke=\"#000000\" points=\"863,-202 768,-202 768,-183 863,-183 863,-202\"/>\n<text text-anchor=\"middle\" x=\"815.5\" y=\"-190\" font-family=\"monospace\" font-size=\"10.00\" fill=\"#000000\">AddmmBackward</text>\n</g>\n<!-- 139808459703952&#45;&gt;139808459702480 -->\n<g id=\"edge4\" class=\"edge\">\n<title>139808459703952&#45;&gt;139808459702480</title>\n<path fill=\"none\" stroke=\"#000000\" d=\"M816.2813,-182.9688C816.9743,-174.5131 818.009,-161.8901 818.8802,-151.2615\"/>\n<polygon fill=\"#000000\" stroke=\"#000000\" points=\"822.379,-151.4182 819.7077,-141.1656 815.4024,-150.8462 822.379,-151.4182\"/>\n</g>\n<!-- 139808459703120 -->\n<g id=\"node7\" class=\"node\">\n<title>139808459703120</title>\n<polygon fill=\"#d3d3d3\" stroke=\"#000000\" points=\"713,-269 612,-269 612,-250 713,-250 713,-269\"/>\n<text text-anchor=\"middle\" x=\"662.5\" y=\"-257\" font-family=\"monospace\" font-size=\"10.00\" fill=\"#000000\">AccumulateGrad</text>\n</g>\n<!-- 139808459703120&#45;&gt;139808459703952 -->\n<g id=\"edge5\" class=\"edge\">\n<title>139808459703120&#45;&gt;139808459703952</title>\n<path fill=\"none\" stroke=\"#000000\" d=\"M684.4212,-249.9005C710.5525,-238.4574 754.4121,-219.2509 784.1296,-206.2374\"/>\n<polygon fill=\"#000000\" stroke=\"#000000\" points=\"785.8633,-209.2991 793.6195,-202.0817 783.0553,-202.887 785.8633,-209.2991\"/>\n</g>\n<!-- 139809469076816 -->\n<g id=\"node8\" class=\"node\">\n<title>139809469076816</title>\n<polygon fill=\"#add8e6\" stroke=\"#000000\" points=\"692,-342 633,-342 633,-311 692,-311 692,-342\"/>\n<text text-anchor=\"middle\" x=\"662.5\" y=\"-318\" font-family=\"monospace\" font-size=\"10.00\" fill=\"#000000\"> (4096)</text>\n</g>\n<!-- 139809469076816&#45;&gt;139808459703120 -->\n<g id=\"edge6\" class=\"edge\">\n<title>139809469076816&#45;&gt;139808459703120</title>\n<path fill=\"none\" stroke=\"#000000\" d=\"M662.5,-310.9604C662.5,-301.6356 662.5,-289.6748 662.5,-279.6317\"/>\n<polygon fill=\"#000000\" stroke=\"#000000\" points=\"666.0001,-279.35 662.5,-269.3501 659.0001,-279.3501 666.0001,-279.35\"/>\n</g>\n<!-- 139808459703184 -->\n<g id=\"node9\" class=\"node\">\n<title>139808459703184</title>\n<polygon fill=\"#d3d3d3\" stroke=\"#000000\" points=\"820,-269 731,-269 731,-250 820,-250 820,-269\"/>\n<text text-anchor=\"middle\" x=\"775.5\" y=\"-257\" font-family=\"monospace\" font-size=\"10.00\" fill=\"#000000\">MulBackward0</text>\n</g>\n<!-- 139808459703184&#45;&gt;139808459703952 -->\n<g id=\"edge7\" class=\"edge\">\n<title>139808459703184&#45;&gt;139808459703952</title>\n<path fill=\"none\" stroke=\"#000000\" d=\"M781.231,-249.9005C787.2905,-239.751 796.9961,-223.4941 804.5341,-210.8679\"/>\n<polygon fill=\"#000000\" stroke=\"#000000\" points=\"807.6586,-212.462 809.7796,-202.0817 801.6483,-208.8737 807.6586,-212.462\"/>\n</g>\n<!-- 139808459703056 -->\n<g id=\"node10\" class=\"node\">\n<title>139808459703056</title>\n<polygon fill=\"#d3d3d3\" stroke=\"#000000\" points=\"814,-336 719,-336 719,-317 814,-317 814,-336\"/>\n<text text-anchor=\"middle\" x=\"766.5\" y=\"-324\" font-family=\"monospace\" font-size=\"10.00\" fill=\"#000000\">ReluBackward1</text>\n</g>\n<!-- 139808459703056&#45;&gt;139808459703184 -->\n<g id=\"edge8\" class=\"edge\">\n<title>139808459703056&#45;&gt;139808459703184</title>\n<path fill=\"none\" stroke=\"#000000\" d=\"M767.7895,-316.9005C769.0994,-307.149 771.1666,-291.7597 772.831,-279.3695\"/>\n<polygon fill=\"#000000\" stroke=\"#000000\" points=\"776.3503,-279.4586 774.2129,-269.0817 769.4127,-278.5266 776.3503,-279.4586\"/>\n</g>\n<!-- 139808459703504 -->\n<g id=\"node11\" class=\"node\">\n<title>139808459703504</title>\n<polygon fill=\"#d3d3d3\" stroke=\"#000000\" points=\"814,-403 719,-403 719,-384 814,-384 814,-403\"/>\n<text text-anchor=\"middle\" x=\"766.5\" y=\"-391\" font-family=\"monospace\" font-size=\"10.00\" fill=\"#000000\">AddmmBackward</text>\n</g>\n<!-- 139808459703504&#45;&gt;139808459703056 -->\n<g id=\"edge9\" class=\"edge\">\n<title>139808459703504&#45;&gt;139808459703056</title>\n<path fill=\"none\" stroke=\"#000000\" d=\"M766.5,-383.9005C766.5,-374.149 766.5,-358.7597 766.5,-346.3695\"/>\n<polygon fill=\"#000000\" stroke=\"#000000\" points=\"770.0001,-346.0816 766.5,-336.0817 763.0001,-346.0817 770.0001,-346.0816\"/>\n</g>\n<!-- 139808459702992 -->\n<g id=\"node12\" class=\"node\">\n<title>139808459702992</title>\n<polygon fill=\"#d3d3d3\" stroke=\"#000000\" points=\"704,-464 603,-464 603,-445 704,-445 704,-464\"/>\n<text text-anchor=\"middle\" x=\"653.5\" y=\"-452\" font-family=\"monospace\" font-size=\"10.00\" fill=\"#000000\">AccumulateGrad</text>\n</g>\n<!-- 139808459702992&#45;&gt;139808459703504 -->\n<g id=\"edge10\" class=\"edge\">\n<title>139808459702992&#45;&gt;139808459703504</title>\n<path fill=\"none\" stroke=\"#000000\" d=\"M671.1563,-444.9688C689.5405,-435.0445 718.5592,-419.3795 739.7575,-407.9362\"/>\n<polygon fill=\"#000000\" stroke=\"#000000\" points=\"741.4577,-410.9959 748.5948,-403.1656 738.1325,-404.8361 741.4577,-410.9959\"/>\n</g>\n<!-- 139809469075856 -->\n<g id=\"node13\" class=\"node\">\n<title>139809469075856</title>\n<polygon fill=\"#add8e6\" stroke=\"#000000\" points=\"683,-531 624,-531 624,-500 683,-500 683,-531\"/>\n<text text-anchor=\"middle\" x=\"653.5\" y=\"-507\" font-family=\"monospace\" font-size=\"10.00\" fill=\"#000000\"> (4096)</text>\n</g>\n<!-- 139809469075856&#45;&gt;139808459702992 -->\n<g id=\"edge11\" class=\"edge\">\n<title>139809469075856&#45;&gt;139808459702992</title>\n<path fill=\"none\" stroke=\"#000000\" d=\"M653.5,-499.791C653.5,-492.0249 653.5,-482.5706 653.5,-474.3129\"/>\n<polygon fill=\"#000000\" stroke=\"#000000\" points=\"657.0001,-474.0647 653.5,-464.0648 650.0001,-474.0648 657.0001,-474.0647\"/>\n</g>\n<!-- 139808459702352 -->\n<g id=\"node14\" class=\"node\">\n<title>139808459702352</title>\n<polygon fill=\"#d3d3d3\" stroke=\"#000000\" points=\"811,-464 722,-464 722,-445 811,-445 811,-464\"/>\n<text text-anchor=\"middle\" x=\"766.5\" y=\"-452\" font-family=\"monospace\" font-size=\"10.00\" fill=\"#000000\">MulBackward0</text>\n</g>\n<!-- 139808459702352&#45;&gt;139808459703504 -->\n<g id=\"edge12\" class=\"edge\">\n<title>139808459702352&#45;&gt;139808459703504</title>\n<path fill=\"none\" stroke=\"#000000\" d=\"M766.5,-444.9688C766.5,-436.5131 766.5,-423.8901 766.5,-413.2615\"/>\n<polygon fill=\"#000000\" stroke=\"#000000\" points=\"770.0001,-413.1656 766.5,-403.1656 763.0001,-413.1657 770.0001,-413.1656\"/>\n</g>\n<!-- 139808459703440 -->\n<g id=\"node15\" class=\"node\">\n<title>139808459703440</title>\n<polygon fill=\"#d3d3d3\" stroke=\"#000000\" points=\"806,-525 717,-525 717,-506 806,-506 806,-525\"/>\n<text text-anchor=\"middle\" x=\"761.5\" y=\"-513\" font-family=\"monospace\" font-size=\"10.00\" fill=\"#000000\">ViewBackward</text>\n</g>\n<!-- 139808459703440&#45;&gt;139808459702352 -->\n<g id=\"edge13\" class=\"edge\">\n<title>139808459703440&#45;&gt;139808459702352</title>\n<path fill=\"none\" stroke=\"#000000\" d=\"M762.2813,-505.9688C762.9743,-497.5131 764.009,-484.8901 764.8802,-474.2615\"/>\n<polygon fill=\"#000000\" stroke=\"#000000\" points=\"768.379,-474.4182 765.7077,-464.1656 761.4024,-473.8462 768.379,-474.4182\"/>\n</g>\n<!-- 139808459702544 -->\n<g id=\"node16\" class=\"node\">\n<title>139808459702544</title>\n<polygon fill=\"#d3d3d3\" stroke=\"#000000\" points=\"829,-592 662,-592 662,-573 829,-573 829,-592\"/>\n<text text-anchor=\"middle\" x=\"745.5\" y=\"-580\" font-family=\"monospace\" font-size=\"10.00\" fill=\"#000000\">AdaptiveAvgPool2DBackward</text>\n</g>\n<!-- 139808459702544&#45;&gt;139808459703440 -->\n<g id=\"edge14\" class=\"edge\">\n<title>139808459702544&#45;&gt;139808459703440</title>\n<path fill=\"none\" stroke=\"#000000\" d=\"M747.7924,-572.9005C750.1449,-563.0495 753.8713,-547.4451 756.8454,-534.9912\"/>\n<polygon fill=\"#000000\" stroke=\"#000000\" points=\"760.2933,-535.6212 759.2118,-525.0817 753.4847,-533.9952 760.2933,-535.6212\"/>\n</g>\n<!-- 139808459703760 -->\n<g id=\"node17\" class=\"node\">\n<title>139808459703760</title>\n<polygon fill=\"#d3d3d3\" stroke=\"#000000\" points=\"838,-653 653,-653 653,-634 838,-634 838,-653\"/>\n<text text-anchor=\"middle\" x=\"745.5\" y=\"-641\" font-family=\"monospace\" font-size=\"10.00\" fill=\"#000000\">MaxPool2DWithIndicesBackward</text>\n</g>\n<!-- 139808459703760&#45;&gt;139808459702544 -->\n<g id=\"edge15\" class=\"edge\">\n<title>139808459703760&#45;&gt;139808459702544</title>\n<path fill=\"none\" stroke=\"#000000\" d=\"M745.5,-633.9688C745.5,-625.5131 745.5,-612.8901 745.5,-602.2615\"/>\n<polygon fill=\"#000000\" stroke=\"#000000\" points=\"749.0001,-602.1656 745.5,-592.1656 742.0001,-602.1657 749.0001,-602.1656\"/>\n</g>\n<!-- 139808459703568 -->\n<g id=\"node18\" class=\"node\">\n<title>139808459703568</title>\n<polygon fill=\"#d3d3d3\" stroke=\"#000000\" points=\"793,-708 698,-708 698,-689 793,-689 793,-708\"/>\n<text text-anchor=\"middle\" x=\"745.5\" y=\"-696\" font-family=\"monospace\" font-size=\"10.00\" fill=\"#000000\">ReluBackward1</text>\n</g>\n<!-- 139808459703568&#45;&gt;139808459703760 -->\n<g id=\"edge16\" class=\"edge\">\n<title>139808459703568&#45;&gt;139808459703760</title>\n<path fill=\"none\" stroke=\"#000000\" d=\"M745.5,-688.9197C745.5,-681.9083 745.5,-672.1442 745.5,-663.4652\"/>\n<polygon fill=\"#000000\" stroke=\"#000000\" points=\"749.0001,-663.3408 745.5,-653.3408 742.0001,-663.3409 749.0001,-663.3408\"/>\n</g>\n<!-- 139808466761424 -->\n<g id=\"node19\" class=\"node\">\n<title>139808466761424</title>\n<polygon fill=\"#d3d3d3\" stroke=\"#000000\" points=\"829,-763 662,-763 662,-744 829,-744 829,-763\"/>\n<text text-anchor=\"middle\" x=\"745.5\" y=\"-751\" font-family=\"monospace\" font-size=\"10.00\" fill=\"#000000\">MkldnnConvolutionBackward</text>\n</g>\n<!-- 139808466761424&#45;&gt;139808459703568 -->\n<g id=\"edge17\" class=\"edge\">\n<title>139808466761424&#45;&gt;139808459703568</title>\n<path fill=\"none\" stroke=\"#000000\" d=\"M745.5,-743.9197C745.5,-736.9083 745.5,-727.1442 745.5,-718.4652\"/>\n<polygon fill=\"#000000\" stroke=\"#000000\" points=\"749.0001,-718.3408 745.5,-708.3408 742.0001,-718.3409 749.0001,-718.3408\"/>\n</g>\n<!-- 139808466762192 -->\n<g id=\"node20\" class=\"node\">\n<title>139808466762192</title>\n<polygon fill=\"#d3d3d3\" stroke=\"#000000\" points=\"658,-818 563,-818 563,-799 658,-799 658,-818\"/>\n<text text-anchor=\"middle\" x=\"610.5\" y=\"-806\" font-family=\"monospace\" font-size=\"10.00\" fill=\"#000000\">ReluBackward1</text>\n</g>\n<!-- 139808466762192&#45;&gt;139808466761424 -->\n<g id=\"edge18\" class=\"edge\">\n<title>139808466762192&#45;&gt;139808466761424</title>\n<path fill=\"none\" stroke=\"#000000\" d=\"M634.0152,-798.9197C655.6603,-790.1014 687.9932,-776.9287 712.2732,-767.0369\"/>\n<polygon fill=\"#000000\" stroke=\"#000000\" points=\"713.8609,-770.1694 721.8013,-763.155 711.2198,-763.6867 713.8609,-770.1694\"/>\n</g>\n<!-- 139808466763408 -->\n<g id=\"node21\" class=\"node\">\n<title>139808466763408</title>\n<polygon fill=\"#d3d3d3\" stroke=\"#000000\" points=\"675,-879 508,-879 508,-860 675,-860 675,-879\"/>\n<text text-anchor=\"middle\" x=\"591.5\" y=\"-867\" font-family=\"monospace\" font-size=\"10.00\" fill=\"#000000\">MkldnnConvolutionBackward</text>\n</g>\n<!-- 139808466763408&#45;&gt;139808466762192 -->\n<g id=\"edge19\" class=\"edge\">\n<title>139808466763408&#45;&gt;139808466762192</title>\n<path fill=\"none\" stroke=\"#000000\" d=\"M594.4688,-859.9688C597.1302,-851.4241 601.1171,-838.6239 604.4491,-827.9265\"/>\n<polygon fill=\"#000000\" stroke=\"#000000\" points=\"607.8571,-828.7541 607.4894,-818.1656 601.1738,-826.6723 607.8571,-828.7541\"/>\n</g>\n<!-- 139808466762960 -->\n<g id=\"node22\" class=\"node\">\n<title>139808466762960</title>\n<polygon fill=\"#d3d3d3\" stroke=\"#000000\" points=\"504,-940 409,-940 409,-921 504,-921 504,-940\"/>\n<text text-anchor=\"middle\" x=\"456.5\" y=\"-928\" font-family=\"monospace\" font-size=\"10.00\" fill=\"#000000\">ReluBackward1</text>\n</g>\n<!-- 139808466762960&#45;&gt;139808466763408 -->\n<g id=\"edge20\" class=\"edge\">\n<title>139808466762960&#45;&gt;139808466763408</title>\n<path fill=\"none\" stroke=\"#000000\" d=\"M477.5938,-920.9688C499.9511,-910.8665 535.4734,-894.8157 560.9046,-883.3246\"/>\n<polygon fill=\"#000000\" stroke=\"#000000\" points=\"562.4372,-886.4729 570.1088,-879.1656 559.5547,-880.0939 562.4372,-886.4729\"/>\n</g>\n<!-- 139808466488272 -->\n<g id=\"node23\" class=\"node\">\n<title>139808466488272</title>\n<polygon fill=\"#d3d3d3\" stroke=\"#000000\" points=\"521,-1001 354,-1001 354,-982 521,-982 521,-1001\"/>\n<text text-anchor=\"middle\" x=\"437.5\" y=\"-989\" font-family=\"monospace\" font-size=\"10.00\" fill=\"#000000\">MkldnnConvolutionBackward</text>\n</g>\n<!-- 139808466488272&#45;&gt;139808466762960 -->\n<g id=\"edge21\" class=\"edge\">\n<title>139808466488272&#45;&gt;139808466762960</title>\n<path fill=\"none\" stroke=\"#000000\" d=\"M440.4688,-981.9688C443.1302,-973.4241 447.1171,-960.6239 450.4491,-949.9265\"/>\n<polygon fill=\"#000000\" stroke=\"#000000\" points=\"453.8571,-950.7541 453.4894,-940.1656 447.1738,-948.6723 453.8571,-950.7541\"/>\n</g>\n<!-- 139808466488528 -->\n<g id=\"node24\" class=\"node\">\n<title>139808466488528</title>\n<polygon fill=\"#d3d3d3\" stroke=\"#000000\" points=\"369,-1062 184,-1062 184,-1043 369,-1043 369,-1062\"/>\n<text text-anchor=\"middle\" x=\"276.5\" y=\"-1050\" font-family=\"monospace\" font-size=\"10.00\" fill=\"#000000\">MaxPool2DWithIndicesBackward</text>\n</g>\n<!-- 139808466488528&#45;&gt;139808466488272 -->\n<g id=\"edge22\" class=\"edge\">\n<title>139808466488528&#45;&gt;139808466488272</title>\n<path fill=\"none\" stroke=\"#000000\" d=\"M301.6563,-1042.9688C328.8692,-1032.6583 372.4363,-1016.1515 402.8722,-1004.6198\"/>\n<polygon fill=\"#000000\" stroke=\"#000000\" points=\"404.144,-1007.8808 412.2553,-1001.0648 401.6639,-1001.3349 404.144,-1007.8808\"/>\n</g>\n<!-- 139808466487376 -->\n<g id=\"node25\" class=\"node\">\n<title>139808466487376</title>\n<polygon fill=\"#d3d3d3\" stroke=\"#000000\" points=\"324,-1123 229,-1123 229,-1104 324,-1104 324,-1123\"/>\n<text text-anchor=\"middle\" x=\"276.5\" y=\"-1111\" font-family=\"monospace\" font-size=\"10.00\" fill=\"#000000\">ReluBackward1</text>\n</g>\n<!-- 139808466487376&#45;&gt;139808466488528 -->\n<g id=\"edge23\" class=\"edge\">\n<title>139808466487376&#45;&gt;139808466488528</title>\n<path fill=\"none\" stroke=\"#000000\" d=\"M276.5,-1103.9688C276.5,-1095.5131 276.5,-1082.8901 276.5,-1072.2615\"/>\n<polygon fill=\"#000000\" stroke=\"#000000\" points=\"280.0001,-1072.1656 276.5,-1062.1656 273.0001,-1072.1657 280.0001,-1072.1656\"/>\n</g>\n<!-- 139808466488208 -->\n<g id=\"node26\" class=\"node\">\n<title>139808466488208</title>\n<polygon fill=\"#d3d3d3\" stroke=\"#000000\" points=\"360,-1184 193,-1184 193,-1165 360,-1165 360,-1184\"/>\n<text text-anchor=\"middle\" x=\"276.5\" y=\"-1172\" font-family=\"monospace\" font-size=\"10.00\" fill=\"#000000\">MkldnnConvolutionBackward</text>\n</g>\n<!-- 139808466488208&#45;&gt;139808466487376 -->\n<g id=\"edge24\" class=\"edge\">\n<title>139808466488208&#45;&gt;139808466487376</title>\n<path fill=\"none\" stroke=\"#000000\" d=\"M276.5,-1164.9688C276.5,-1156.5131 276.5,-1143.8901 276.5,-1133.2615\"/>\n<polygon fill=\"#000000\" stroke=\"#000000\" points=\"280.0001,-1133.1656 276.5,-1123.1656 273.0001,-1133.1657 280.0001,-1133.1656\"/>\n</g>\n<!-- 139808466487440 -->\n<g id=\"node27\" class=\"node\">\n<title>139808466487440</title>\n<polygon fill=\"#d3d3d3\" stroke=\"#000000\" points=\"208,-1239 23,-1239 23,-1220 208,-1220 208,-1239\"/>\n<text text-anchor=\"middle\" x=\"115.5\" y=\"-1227\" font-family=\"monospace\" font-size=\"10.00\" fill=\"#000000\">MaxPool2DWithIndicesBackward</text>\n</g>\n<!-- 139808466487440&#45;&gt;139808466488208 -->\n<g id=\"edge25\" class=\"edge\">\n<title>139808466487440&#45;&gt;139808466488208</title>\n<path fill=\"none\" stroke=\"#000000\" d=\"M143.5441,-1219.9197C169.8973,-1210.9171 209.5352,-1197.3762 238.6767,-1187.421\"/>\n<polygon fill=\"#000000\" stroke=\"#000000\" points=\"240.1761,-1190.6075 248.5077,-1184.0626 237.9131,-1183.9833 240.1761,-1190.6075\"/>\n</g>\n<!-- 139811481395600 -->\n<g id=\"node28\" class=\"node\">\n<title>139811481395600</title>\n<polygon fill=\"#d3d3d3\" stroke=\"#000000\" points=\"163,-1300 68,-1300 68,-1281 163,-1281 163,-1300\"/>\n<text text-anchor=\"middle\" x=\"115.5\" y=\"-1288\" font-family=\"monospace\" font-size=\"10.00\" fill=\"#000000\">ReluBackward1</text>\n</g>\n<!-- 139811481395600&#45;&gt;139808466487440 -->\n<g id=\"edge26\" class=\"edge\">\n<title>139811481395600&#45;&gt;139808466487440</title>\n<path fill=\"none\" stroke=\"#000000\" d=\"M115.5,-1280.9688C115.5,-1272.5131 115.5,-1259.8901 115.5,-1249.2615\"/>\n<polygon fill=\"#000000\" stroke=\"#000000\" points=\"119.0001,-1249.1656 115.5,-1239.1656 112.0001,-1249.1657 119.0001,-1249.1656\"/>\n</g>\n<!-- 139808459624336 -->\n<g id=\"node29\" class=\"node\">\n<title>139808459624336</title>\n<polygon fill=\"#d3d3d3\" stroke=\"#000000\" points=\"199,-1361 32,-1361 32,-1342 199,-1342 199,-1361\"/>\n<text text-anchor=\"middle\" x=\"115.5\" y=\"-1349\" font-family=\"monospace\" font-size=\"10.00\" fill=\"#000000\">MkldnnConvolutionBackward</text>\n</g>\n<!-- 139808459624336&#45;&gt;139811481395600 -->\n<g id=\"edge27\" class=\"edge\">\n<title>139808459624336&#45;&gt;139811481395600</title>\n<path fill=\"none\" stroke=\"#000000\" d=\"M115.5,-1341.9688C115.5,-1333.5131 115.5,-1320.8901 115.5,-1310.2615\"/>\n<polygon fill=\"#000000\" stroke=\"#000000\" points=\"119.0001,-1310.1656 115.5,-1300.1656 112.0001,-1310.1657 119.0001,-1310.1656\"/>\n</g>\n<!-- 139808459621968 -->\n<g id=\"node30\" class=\"node\">\n<title>139808459621968</title>\n<polygon fill=\"#d3d3d3\" stroke=\"#000000\" points=\"107,-1416 6,-1416 6,-1397 107,-1397 107,-1416\"/>\n<text text-anchor=\"middle\" x=\"56.5\" y=\"-1404\" font-family=\"monospace\" font-size=\"10.00\" fill=\"#000000\">AccumulateGrad</text>\n</g>\n<!-- 139808459621968&#45;&gt;139808459624336 -->\n<g id=\"edge28\" class=\"edge\">\n<title>139808459621968&#45;&gt;139808459624336</title>\n<path fill=\"none\" stroke=\"#000000\" d=\"M66.777,-1396.9197C75.2176,-1389.0514 87.377,-1377.7164 97.4369,-1368.3385\"/>\n<polygon fill=\"#000000\" stroke=\"#000000\" points=\"100.0154,-1370.7198 104.9435,-1361.3408 95.2422,-1365.5995 100.0154,-1370.7198\"/>\n</g>\n<!-- 139809469553952 -->\n<g id=\"node31\" class=\"node\">\n<title>139809469553952</title>\n<polygon fill=\"#add8e6\" stroke=\"#000000\" points=\"113,-1483 0,-1483 0,-1452 113,-1452 113,-1483\"/>\n<text text-anchor=\"middle\" x=\"56.5\" y=\"-1459\" font-family=\"monospace\" font-size=\"10.00\" fill=\"#000000\"> (64, 3, 11, 11)</text>\n</g>\n<!-- 139809469553952&#45;&gt;139808459621968 -->\n<g id=\"edge29\" class=\"edge\">\n<title>139809469553952&#45;&gt;139808459621968</title>\n<path fill=\"none\" stroke=\"#000000\" d=\"M56.5,-1451.791C56.5,-1444.0249 56.5,-1434.5706 56.5,-1426.3129\"/>\n<polygon fill=\"#000000\" stroke=\"#000000\" points=\"60.0001,-1426.0647 56.5,-1416.0648 53.0001,-1426.0648 60.0001,-1426.0647\"/>\n</g>\n<!-- 139808459621712 -->\n<g id=\"node32\" class=\"node\">\n<title>139808459621712</title>\n<polygon fill=\"#d3d3d3\" stroke=\"#000000\" points=\"226,-1416 125,-1416 125,-1397 226,-1397 226,-1416\"/>\n<text text-anchor=\"middle\" x=\"175.5\" y=\"-1404\" font-family=\"monospace\" font-size=\"10.00\" fill=\"#000000\">AccumulateGrad</text>\n</g>\n<!-- 139808459621712&#45;&gt;139808459624336 -->\n<g id=\"edge30\" class=\"edge\">\n<title>139808459621712&#45;&gt;139808459624336</title>\n<path fill=\"none\" stroke=\"#000000\" d=\"M165.0488,-1396.9197C156.4651,-1389.0514 144.0997,-1377.7164 133.8693,-1368.3385\"/>\n<polygon fill=\"#000000\" stroke=\"#000000\" points=\"135.9721,-1365.5181 126.2355,-1361.3408 131.242,-1370.6782 135.9721,-1365.5181\"/>\n</g>\n<!-- 139809469554112 -->\n<g id=\"node33\" class=\"node\">\n<title>139809469554112</title>\n<polygon fill=\"#add8e6\" stroke=\"#000000\" points=\"202.5,-1483 148.5,-1483 148.5,-1452 202.5,-1452 202.5,-1483\"/>\n<text text-anchor=\"middle\" x=\"175.5\" y=\"-1459\" font-family=\"monospace\" font-size=\"10.00\" fill=\"#000000\"> (64)</text>\n</g>\n<!-- 139809469554112&#45;&gt;139808459621712 -->\n<g id=\"edge31\" class=\"edge\">\n<title>139809469554112&#45;&gt;139808459621712</title>\n<path fill=\"none\" stroke=\"#000000\" d=\"M175.5,-1451.791C175.5,-1444.0249 175.5,-1434.5706 175.5,-1426.3129\"/>\n<polygon fill=\"#000000\" stroke=\"#000000\" points=\"179.0001,-1426.0647 175.5,-1416.0648 172.0001,-1426.0648 179.0001,-1426.0647\"/>\n</g>\n<!-- 139808466486608 -->\n<g id=\"node34\" class=\"node\">\n<title>139808466486608</title>\n<polygon fill=\"#d3d3d3\" stroke=\"#000000\" points=\"327,-1239 226,-1239 226,-1220 327,-1220 327,-1239\"/>\n<text text-anchor=\"middle\" x=\"276.5\" y=\"-1227\" font-family=\"monospace\" font-size=\"10.00\" fill=\"#000000\">AccumulateGrad</text>\n</g>\n<!-- 139808466486608&#45;&gt;139808466488208 -->\n<g id=\"edge32\" class=\"edge\">\n<title>139808466486608&#45;&gt;139808466488208</title>\n<path fill=\"none\" stroke=\"#000000\" d=\"M276.5,-1219.9197C276.5,-1212.9083 276.5,-1203.1442 276.5,-1194.4652\"/>\n<polygon fill=\"#000000\" stroke=\"#000000\" points=\"280.0001,-1194.3408 276.5,-1184.3408 273.0001,-1194.3409 280.0001,-1194.3408\"/>\n</g>\n<!-- 139809469553712 -->\n<g id=\"node35\" class=\"node\">\n<title>139809469553712</title>\n<polygon fill=\"#add8e6\" stroke=\"#000000\" points=\"333,-1306 220,-1306 220,-1275 333,-1275 333,-1306\"/>\n<text text-anchor=\"middle\" x=\"276.5\" y=\"-1282\" font-family=\"monospace\" font-size=\"10.00\" fill=\"#000000\"> (192, 64, 5, 5)</text>\n</g>\n<!-- 139809469553712&#45;&gt;139808466486608 -->\n<g id=\"edge33\" class=\"edge\">\n<title>139809469553712&#45;&gt;139808466486608</title>\n<path fill=\"none\" stroke=\"#000000\" d=\"M276.5,-1274.791C276.5,-1267.0249 276.5,-1257.5706 276.5,-1249.3129\"/>\n<polygon fill=\"#000000\" stroke=\"#000000\" points=\"280.0001,-1249.0647 276.5,-1239.0648 273.0001,-1249.0648 280.0001,-1249.0647\"/>\n</g>\n<!-- 139808466489232 -->\n<g id=\"node36\" class=\"node\">\n<title>139808466489232</title>\n<polygon fill=\"#d3d3d3\" stroke=\"#000000\" points=\"446,-1239 345,-1239 345,-1220 446,-1220 446,-1239\"/>\n<text text-anchor=\"middle\" x=\"395.5\" y=\"-1227\" font-family=\"monospace\" font-size=\"10.00\" fill=\"#000000\">AccumulateGrad</text>\n</g>\n<!-- 139808466489232&#45;&gt;139808466488208 -->\n<g id=\"edge34\" class=\"edge\">\n<title>139808466489232&#45;&gt;139808466488208</title>\n<path fill=\"none\" stroke=\"#000000\" d=\"M374.7718,-1219.9197C355.9465,-1211.219 327.9495,-1198.2792 306.6487,-1188.4343\"/>\n<polygon fill=\"#000000\" stroke=\"#000000\" points=\"307.9357,-1185.1734 297.39,-1184.155 304.9989,-1191.5276 307.9357,-1185.1734\"/>\n</g>\n<!-- 139809469554192 -->\n<g id=\"node37\" class=\"node\">\n<title>139809469554192</title>\n<polygon fill=\"#add8e6\" stroke=\"#000000\" points=\"422.5,-1306 368.5,-1306 368.5,-1275 422.5,-1275 422.5,-1306\"/>\n<text text-anchor=\"middle\" x=\"395.5\" y=\"-1282\" font-family=\"monospace\" font-size=\"10.00\" fill=\"#000000\"> (192)</text>\n</g>\n<!-- 139809469554192&#45;&gt;139808466489232 -->\n<g id=\"edge35\" class=\"edge\">\n<title>139809469554192&#45;&gt;139808466489232</title>\n<path fill=\"none\" stroke=\"#000000\" d=\"M395.5,-1274.791C395.5,-1267.0249 395.5,-1257.5706 395.5,-1249.3129\"/>\n<polygon fill=\"#000000\" stroke=\"#000000\" points=\"399.0001,-1249.0647 395.5,-1239.0648 392.0001,-1249.0648 399.0001,-1249.0647\"/>\n</g>\n<!-- 139808466487504 -->\n<g id=\"node38\" class=\"node\">\n<title>139808466487504</title>\n<polygon fill=\"#d3d3d3\" stroke=\"#000000\" points=\"488,-1062 387,-1062 387,-1043 488,-1043 488,-1062\"/>\n<text text-anchor=\"middle\" x=\"437.5\" y=\"-1050\" font-family=\"monospace\" font-size=\"10.00\" fill=\"#000000\">AccumulateGrad</text>\n</g>\n<!-- 139808466487504&#45;&gt;139808466488272 -->\n<g id=\"edge36\" class=\"edge\">\n<title>139808466487504&#45;&gt;139808466488272</title>\n<path fill=\"none\" stroke=\"#000000\" d=\"M437.5,-1042.9688C437.5,-1034.5131 437.5,-1021.8901 437.5,-1011.2615\"/>\n<polygon fill=\"#000000\" stroke=\"#000000\" points=\"441.0001,-1011.1656 437.5,-1001.1656 434.0001,-1011.1657 441.0001,-1011.1656\"/>\n</g>\n<!-- 139809469554272 -->\n<g id=\"node39\" class=\"node\">\n<title>139809469554272</title>\n<polygon fill=\"#add8e6\" stroke=\"#000000\" points=\"497,-1129 378,-1129 378,-1098 497,-1098 497,-1129\"/>\n<text text-anchor=\"middle\" x=\"437.5\" y=\"-1105\" font-family=\"monospace\" font-size=\"10.00\" fill=\"#000000\"> (384, 192, 3, 3)</text>\n</g>\n<!-- 139809469554272&#45;&gt;139808466487504 -->\n<g id=\"edge37\" class=\"edge\">\n<title>139809469554272&#45;&gt;139808466487504</title>\n<path fill=\"none\" stroke=\"#000000\" d=\"M437.5,-1097.791C437.5,-1090.0249 437.5,-1080.5706 437.5,-1072.3129\"/>\n<polygon fill=\"#000000\" stroke=\"#000000\" points=\"441.0001,-1072.0647 437.5,-1062.0648 434.0001,-1072.0648 441.0001,-1072.0647\"/>\n</g>\n<!-- 139808466489296 -->\n<g id=\"node40\" class=\"node\">\n<title>139808466489296</title>\n<polygon fill=\"#d3d3d3\" stroke=\"#000000\" points=\"607,-1062 506,-1062 506,-1043 607,-1043 607,-1062\"/>\n<text text-anchor=\"middle\" x=\"556.5\" y=\"-1050\" font-family=\"monospace\" font-size=\"10.00\" fill=\"#000000\">AccumulateGrad</text>\n</g>\n<!-- 139808466489296&#45;&gt;139808466488272 -->\n<g id=\"edge38\" class=\"edge\">\n<title>139808466489296&#45;&gt;139808466488272</title>\n<path fill=\"none\" stroke=\"#000000\" d=\"M537.9063,-1042.9688C518.4591,-1033 487.712,-1017.2389 465.3626,-1005.7825\"/>\n<polygon fill=\"#000000\" stroke=\"#000000\" points=\"466.8515,-1002.6127 456.3559,-1001.1656 463.6583,-1008.842 466.8515,-1002.6127\"/>\n</g>\n<!-- 139809469554352 -->\n<g id=\"node41\" class=\"node\">\n<title>139809469554352</title>\n<polygon fill=\"#add8e6\" stroke=\"#000000\" points=\"583.5,-1129 529.5,-1129 529.5,-1098 583.5,-1098 583.5,-1129\"/>\n<text text-anchor=\"middle\" x=\"556.5\" y=\"-1105\" font-family=\"monospace\" font-size=\"10.00\" fill=\"#000000\"> (384)</text>\n</g>\n<!-- 139809469554352&#45;&gt;139808466489296 -->\n<g id=\"edge39\" class=\"edge\">\n<title>139809469554352&#45;&gt;139808466489296</title>\n<path fill=\"none\" stroke=\"#000000\" d=\"M556.5,-1097.791C556.5,-1090.0249 556.5,-1080.5706 556.5,-1072.3129\"/>\n<polygon fill=\"#000000\" stroke=\"#000000\" points=\"560.0001,-1072.0647 556.5,-1062.0648 553.0001,-1072.0648 560.0001,-1072.0647\"/>\n</g>\n<!-- 139808466762768 -->\n<g id=\"node42\" class=\"node\">\n<title>139808466762768</title>\n<polygon fill=\"#d3d3d3\" stroke=\"#000000\" points=\"642,-940 541,-940 541,-921 642,-921 642,-940\"/>\n<text text-anchor=\"middle\" x=\"591.5\" y=\"-928\" font-family=\"monospace\" font-size=\"10.00\" fill=\"#000000\">AccumulateGrad</text>\n</g>\n<!-- 139808466762768&#45;&gt;139808466763408 -->\n<g id=\"edge40\" class=\"edge\">\n<title>139808466762768&#45;&gt;139808466763408</title>\n<path fill=\"none\" stroke=\"#000000\" d=\"M591.5,-920.9688C591.5,-912.5131 591.5,-899.8901 591.5,-889.2615\"/>\n<polygon fill=\"#000000\" stroke=\"#000000\" points=\"595.0001,-889.1656 591.5,-879.1656 588.0001,-889.1657 595.0001,-889.1656\"/>\n</g>\n<!-- 139809469554432 -->\n<g id=\"node43\" class=\"node\">\n<title>139809469554432</title>\n<polygon fill=\"#add8e6\" stroke=\"#000000\" points=\"658,-1007 539,-1007 539,-976 658,-976 658,-1007\"/>\n<text text-anchor=\"middle\" x=\"598.5\" y=\"-983\" font-family=\"monospace\" font-size=\"10.00\" fill=\"#000000\"> (256, 384, 3, 3)</text>\n</g>\n<!-- 139809469554432&#45;&gt;139808466762768 -->\n<g id=\"edge41\" class=\"edge\">\n<title>139809469554432&#45;&gt;139808466762768</title>\n<path fill=\"none\" stroke=\"#000000\" d=\"M596.6973,-975.791C595.796,-967.9366 594.6965,-958.3555 593.7414,-950.0318\"/>\n<polygon fill=\"#000000\" stroke=\"#000000\" points=\"597.2149,-949.6005 592.5976,-940.0648 590.2606,-950.3986 597.2149,-949.6005\"/>\n</g>\n<!-- 139808466760016 -->\n<g id=\"node44\" class=\"node\">\n<title>139808466760016</title>\n<polygon fill=\"#d3d3d3\" stroke=\"#000000\" points=\"761,-940 660,-940 660,-921 761,-921 761,-940\"/>\n<text text-anchor=\"middle\" x=\"710.5\" y=\"-928\" font-family=\"monospace\" font-size=\"10.00\" fill=\"#000000\">AccumulateGrad</text>\n</g>\n<!-- 139808466760016&#45;&gt;139808466763408 -->\n<g id=\"edge42\" class=\"edge\">\n<title>139808466760016&#45;&gt;139808466763408</title>\n<path fill=\"none\" stroke=\"#000000\" d=\"M691.9063,-920.9688C672.4591,-911 641.712,-895.2389 619.3626,-883.7825\"/>\n<polygon fill=\"#000000\" stroke=\"#000000\" points=\"620.8515,-880.6127 610.3559,-879.1656 617.6583,-886.842 620.8515,-880.6127\"/>\n</g>\n<!-- 139809469554512 -->\n<g id=\"node45\" class=\"node\">\n<title>139809469554512</title>\n<polygon fill=\"#add8e6\" stroke=\"#000000\" points=\"737.5,-1007 683.5,-1007 683.5,-976 737.5,-976 737.5,-1007\"/>\n<text text-anchor=\"middle\" x=\"710.5\" y=\"-983\" font-family=\"monospace\" font-size=\"10.00\" fill=\"#000000\"> (256)</text>\n</g>\n<!-- 139809469554512&#45;&gt;139808466760016 -->\n<g id=\"edge43\" class=\"edge\">\n<title>139809469554512&#45;&gt;139808466760016</title>\n<path fill=\"none\" stroke=\"#000000\" d=\"M710.5,-975.791C710.5,-968.0249 710.5,-958.5706 710.5,-950.3129\"/>\n<polygon fill=\"#000000\" stroke=\"#000000\" points=\"714.0001,-950.0647 710.5,-940.0648 707.0001,-950.0648 714.0001,-950.0647\"/>\n</g>\n<!-- 139808466760976 -->\n<g id=\"node46\" class=\"node\">\n<title>139808466760976</title>\n<polygon fill=\"#d3d3d3\" stroke=\"#000000\" points=\"796,-818 695,-818 695,-799 796,-799 796,-818\"/>\n<text text-anchor=\"middle\" x=\"745.5\" y=\"-806\" font-family=\"monospace\" font-size=\"10.00\" fill=\"#000000\">AccumulateGrad</text>\n</g>\n<!-- 139808466760976&#45;&gt;139808466761424 -->\n<g id=\"edge44\" class=\"edge\">\n<title>139808466760976&#45;&gt;139808466761424</title>\n<path fill=\"none\" stroke=\"#000000\" d=\"M745.5,-798.9197C745.5,-791.9083 745.5,-782.1442 745.5,-773.4652\"/>\n<polygon fill=\"#000000\" stroke=\"#000000\" points=\"749.0001,-773.3408 745.5,-763.3408 742.0001,-773.3409 749.0001,-773.3408\"/>\n</g>\n<!-- 139809469075616 -->\n<g id=\"node47\" class=\"node\">\n<title>139809469075616</title>\n<polygon fill=\"#add8e6\" stroke=\"#000000\" points=\"812,-885 693,-885 693,-854 812,-854 812,-885\"/>\n<text text-anchor=\"middle\" x=\"752.5\" y=\"-861\" font-family=\"monospace\" font-size=\"10.00\" fill=\"#000000\"> (256, 256, 3, 3)</text>\n</g>\n<!-- 139809469075616&#45;&gt;139808466760976 -->\n<g id=\"edge45\" class=\"edge\">\n<title>139809469075616&#45;&gt;139808466760976</title>\n<path fill=\"none\" stroke=\"#000000\" d=\"M750.6973,-853.791C749.796,-845.9366 748.6965,-836.3555 747.7414,-828.0318\"/>\n<polygon fill=\"#000000\" stroke=\"#000000\" points=\"751.2149,-827.6005 746.5976,-818.0648 744.2606,-828.3986 751.2149,-827.6005\"/>\n</g>\n<!-- 139808466760784 -->\n<g id=\"node48\" class=\"node\">\n<title>139808466760784</title>\n<polygon fill=\"#d3d3d3\" stroke=\"#000000\" points=\"915,-818 814,-818 814,-799 915,-799 915,-818\"/>\n<text text-anchor=\"middle\" x=\"864.5\" y=\"-806\" font-family=\"monospace\" font-size=\"10.00\" fill=\"#000000\">AccumulateGrad</text>\n</g>\n<!-- 139808466760784&#45;&gt;139808466761424 -->\n<g id=\"edge46\" class=\"edge\">\n<title>139808466760784&#45;&gt;139808466761424</title>\n<path fill=\"none\" stroke=\"#000000\" d=\"M843.7718,-798.9197C824.9465,-790.219 796.9495,-777.2792 775.6487,-767.4343\"/>\n<polygon fill=\"#000000\" stroke=\"#000000\" points=\"776.9357,-764.1734 766.39,-763.155 773.9989,-770.5276 776.9357,-764.1734\"/>\n</g>\n<!-- 139809469075696 -->\n<g id=\"node49\" class=\"node\">\n<title>139809469075696</title>\n<polygon fill=\"#add8e6\" stroke=\"#000000\" points=\"891.5,-885 837.5,-885 837.5,-854 891.5,-854 891.5,-885\"/>\n<text text-anchor=\"middle\" x=\"864.5\" y=\"-861\" font-family=\"monospace\" font-size=\"10.00\" fill=\"#000000\"> (256)</text>\n</g>\n<!-- 139809469075696&#45;&gt;139808466760784 -->\n<g id=\"edge47\" class=\"edge\">\n<title>139809469075696&#45;&gt;139808466760784</title>\n<path fill=\"none\" stroke=\"#000000\" d=\"M864.5,-853.791C864.5,-846.0249 864.5,-836.5706 864.5,-828.3129\"/>\n<polygon fill=\"#000000\" stroke=\"#000000\" points=\"868.0001,-828.0647 864.5,-818.0648 861.0001,-828.0648 868.0001,-828.0647\"/>\n</g>\n<!-- 139808459702800 -->\n<g id=\"node50\" class=\"node\">\n<title>139808459702800</title>\n<polygon fill=\"#d3d3d3\" stroke=\"#000000\" points=\"909,-464 838,-464 838,-445 909,-445 909,-464\"/>\n<text text-anchor=\"middle\" x=\"873.5\" y=\"-452\" font-family=\"monospace\" font-size=\"10.00\" fill=\"#000000\">TBackward</text>\n</g>\n<!-- 139808459702800&#45;&gt;139808459703504 -->\n<g id=\"edge48\" class=\"edge\">\n<title>139808459702800&#45;&gt;139808459703504</title>\n<path fill=\"none\" stroke=\"#000000\" d=\"M856.7813,-444.9688C839.5293,-435.1335 812.3873,-419.6601 792.3644,-408.2451\"/>\n<polygon fill=\"#000000\" stroke=\"#000000\" points=\"793.8753,-405.0777 783.4545,-403.1656 790.4085,-411.1589 793.8753,-405.0777\"/>\n</g>\n<!-- 139808459702672 -->\n<g id=\"node51\" class=\"node\">\n<title>139808459702672</title>\n<polygon fill=\"#d3d3d3\" stroke=\"#000000\" points=\"928,-525 827,-525 827,-506 928,-506 928,-525\"/>\n<text text-anchor=\"middle\" x=\"877.5\" y=\"-513\" font-family=\"monospace\" font-size=\"10.00\" fill=\"#000000\">AccumulateGrad</text>\n</g>\n<!-- 139808459702672&#45;&gt;139808459702800 -->\n<g id=\"edge49\" class=\"edge\">\n<title>139808459702672&#45;&gt;139808459702800</title>\n<path fill=\"none\" stroke=\"#000000\" d=\"M876.875,-505.9688C876.3205,-497.5131 875.4928,-484.8901 874.7958,-474.2615\"/>\n<polygon fill=\"#000000\" stroke=\"#000000\" points=\"878.2807,-473.9152 874.1338,-464.1656 871.2957,-474.3732 878.2807,-473.9152\"/>\n</g>\n<!-- 139809469075776 -->\n<g id=\"node52\" class=\"node\">\n<title>139809469075776</title>\n<polygon fill=\"#add8e6\" stroke=\"#000000\" points=\"942,-598 847,-598 847,-567 942,-567 942,-598\"/>\n<text text-anchor=\"middle\" x=\"894.5\" y=\"-574\" font-family=\"monospace\" font-size=\"10.00\" fill=\"#000000\"> (4096, 9216)</text>\n</g>\n<!-- 139809469075776&#45;&gt;139808459702672 -->\n<g id=\"edge50\" class=\"edge\">\n<title>139809469075776&#45;&gt;139808459702672</title>\n<path fill=\"none\" stroke=\"#000000\" d=\"M890.5571,-566.9604C888.1657,-557.5353 885.091,-545.4173 882.526,-535.3084\"/>\n<polygon fill=\"#000000\" stroke=\"#000000\" points=\"885.8512,-534.1821 879.9993,-525.3501 879.0662,-535.9037 885.8512,-534.1821\"/>\n</g>\n<!-- 139808459703312 -->\n<g id=\"node53\" class=\"node\">\n<title>139808459703312</title>\n<polygon fill=\"#d3d3d3\" stroke=\"#000000\" points=\"909,-269 838,-269 838,-250 909,-250 909,-269\"/>\n<text text-anchor=\"middle\" x=\"873.5\" y=\"-257\" font-family=\"monospace\" font-size=\"10.00\" fill=\"#000000\">TBackward</text>\n</g>\n<!-- 139808459703312&#45;&gt;139808459703952 -->\n<g id=\"edge51\" class=\"edge\">\n<title>139808459703312&#45;&gt;139808459703952</title>\n<path fill=\"none\" stroke=\"#000000\" d=\"M865.19,-249.9005C856.1454,-239.4525 841.4983,-222.5325 830.4445,-209.7635\"/>\n<polygon fill=\"#000000\" stroke=\"#000000\" points=\"832.9858,-207.3515 823.7946,-202.0817 827.6934,-211.9331 832.9858,-207.3515\"/>\n</g>\n<!-- 139808466762576 -->\n<g id=\"node54\" class=\"node\">\n<title>139808466762576</title>\n<polygon fill=\"#d3d3d3\" stroke=\"#000000\" points=\"933,-336 832,-336 832,-317 933,-317 933,-336\"/>\n<text text-anchor=\"middle\" x=\"882.5\" y=\"-324\" font-family=\"monospace\" font-size=\"10.00\" fill=\"#000000\">AccumulateGrad</text>\n</g>\n<!-- 139808466762576&#45;&gt;139808459703312 -->\n<g id=\"edge52\" class=\"edge\">\n<title>139808466762576&#45;&gt;139808459703312</title>\n<path fill=\"none\" stroke=\"#000000\" d=\"M881.2105,-316.9005C879.9006,-307.149 877.8334,-291.7597 876.169,-279.3695\"/>\n<polygon fill=\"#000000\" stroke=\"#000000\" points=\"879.5873,-278.5266 874.7871,-269.0817 872.6497,-279.4586 879.5873,-278.5266\"/>\n</g>\n<!-- 139809469077216 -->\n<g id=\"node55\" class=\"node\">\n<title>139809469077216</title>\n<polygon fill=\"#add8e6\" stroke=\"#000000\" points=\"930,-409 835,-409 835,-378 930,-378 930,-409\"/>\n<text text-anchor=\"middle\" x=\"882.5\" y=\"-385\" font-family=\"monospace\" font-size=\"10.00\" fill=\"#000000\"> (4096, 4096)</text>\n</g>\n<!-- 139809469077216&#45;&gt;139808466762576 -->\n<g id=\"edge53\" class=\"edge\">\n<title>139809469077216&#45;&gt;139808466762576</title>\n<path fill=\"none\" stroke=\"#000000\" d=\"M882.5,-377.9604C882.5,-368.6356 882.5,-356.6748 882.5,-346.6317\"/>\n<polygon fill=\"#000000\" stroke=\"#000000\" points=\"886.0001,-346.35 882.5,-336.3501 879.0001,-346.3501 886.0001,-346.35\"/>\n</g>\n<!-- 139808459702416 -->\n<g id=\"node56\" class=\"node\">\n<title>139808459702416</title>\n<polygon fill=\"#d3d3d3\" stroke=\"#000000\" points=\"966,-141 895,-141 895,-122 966,-122 966,-141\"/>\n<text text-anchor=\"middle\" x=\"930.5\" y=\"-129\" font-family=\"monospace\" font-size=\"10.00\" fill=\"#000000\">TBackward</text>\n</g>\n<!-- 139808459702416&#45;&gt;139808459702864 -->\n<g id=\"edge54\" class=\"edge\">\n<title>139808459702416&#45;&gt;139808459702864</title>\n<path fill=\"none\" stroke=\"#000000\" d=\"M911.3395,-121.9197C894.0947,-113.2973 868.524,-100.512 848.9022,-90.7011\"/>\n<polygon fill=\"#000000\" stroke=\"#000000\" points=\"850.3196,-87.4967 839.81,-86.155 847.1891,-93.7577 850.3196,-87.4967\"/>\n</g>\n<!-- 139808466762448 -->\n<g id=\"node57\" class=\"node\">\n<title>139808466762448</title>\n<polygon fill=\"#d3d3d3\" stroke=\"#000000\" points=\"985,-202 884,-202 884,-183 985,-183 985,-202\"/>\n<text text-anchor=\"middle\" x=\"934.5\" y=\"-190\" font-family=\"monospace\" font-size=\"10.00\" fill=\"#000000\">AccumulateGrad</text>\n</g>\n<!-- 139808466762448&#45;&gt;139808459702416 -->\n<g id=\"edge55\" class=\"edge\">\n<title>139808466762448&#45;&gt;139808459702416</title>\n<path fill=\"none\" stroke=\"#000000\" d=\"M933.875,-182.9688C933.3205,-174.5131 932.4928,-161.8901 931.7958,-151.2615\"/>\n<polygon fill=\"#000000\" stroke=\"#000000\" points=\"935.2807,-150.9152 931.1338,-141.1656 928.2957,-151.3732 935.2807,-150.9152\"/>\n</g>\n<!-- 139809469076656 -->\n<g id=\"node58\" class=\"node\">\n<title>139809469076656</title>\n<polygon fill=\"#add8e6\" stroke=\"#000000\" points=\"1022,-275 927,-275 927,-244 1022,-244 1022,-275\"/>\n<text text-anchor=\"middle\" x=\"974.5\" y=\"-251\" font-family=\"monospace\" font-size=\"10.00\" fill=\"#000000\"> (1000, 4096)</text>\n</g>\n<!-- 139809469076656&#45;&gt;139808466762448 -->\n<g id=\"edge56\" class=\"edge\">\n<title>139809469076656&#45;&gt;139808466762448</title>\n<path fill=\"none\" stroke=\"#000000\" d=\"M965.2227,-243.9604C959.3563,-234.1343 951.7425,-221.3811 945.5622,-211.0291\"/>\n<polygon fill=\"#000000\" stroke=\"#000000\" points=\"948.512,-209.1422 940.3806,-202.3501 942.5016,-212.7305 948.512,-209.1422\"/>\n</g>\n</g>\n</svg>\n"
          },
          "metadata": {
            "tags": []
          },
          "execution_count": 11
        }
      ]
    },
    {
      "cell_type": "code",
      "metadata": {
        "colab": {
          "base_uri": "https://localhost:8080/",
          "height": 236
        },
        "id": "2skAYHlJ4wuO",
        "outputId": "01251f7a-1e34-449b-f622-6d0201391ee0"
      },
      "source": [
        "from torch.utils.tensorboard import SummaryWriter\n",
        "\n",
        "# default `log_dir` is \"runs\" - we'll be more specific here\n",
        "writer = SummaryWriter('runs/fashion_mnist_experiment_1')\n",
        "\n",
        "# get some random training images\n",
        "dataiter = iter(trainloader)\n",
        "images, labels = dataiter.next()\n",
        "\n",
        "# create grid of images\n",
        "img_grid = torchvision.utils.make_grid(images)\n",
        "\n",
        "# show images\n",
        "matplotlib_imshow(img_grid, one_channel=True)\n",
        "\n",
        "# write to tensorboard\n",
        "writer.add_image('four_fashion_mnist_images', img_grid)\n"
      ],
      "execution_count": 5,
      "outputs": [
        {
          "output_type": "error",
          "ename": "NameError",
          "evalue": "ignored",
          "traceback": [
            "\u001b[0;31m---------------------------------------------------------------------------\u001b[0m",
            "\u001b[0;31mNameError\u001b[0m                                 Traceback (most recent call last)",
            "\u001b[0;32m<ipython-input-5-9fe74e8823c6>\u001b[0m in \u001b[0;36m<module>\u001b[0;34m()\u001b[0m\n\u001b[1;32m      5\u001b[0m \u001b[0;34m\u001b[0m\u001b[0m\n\u001b[1;32m      6\u001b[0m \u001b[0;31m# get some random training images\u001b[0m\u001b[0;34m\u001b[0m\u001b[0;34m\u001b[0m\u001b[0;34m\u001b[0m\u001b[0m\n\u001b[0;32m----> 7\u001b[0;31m \u001b[0mdataiter\u001b[0m \u001b[0;34m=\u001b[0m \u001b[0miter\u001b[0m\u001b[0;34m(\u001b[0m\u001b[0mtrainloader\u001b[0m\u001b[0;34m)\u001b[0m\u001b[0;34m\u001b[0m\u001b[0;34m\u001b[0m\u001b[0m\n\u001b[0m\u001b[1;32m      8\u001b[0m \u001b[0mimages\u001b[0m\u001b[0;34m,\u001b[0m \u001b[0mlabels\u001b[0m \u001b[0;34m=\u001b[0m \u001b[0mdataiter\u001b[0m\u001b[0;34m.\u001b[0m\u001b[0mnext\u001b[0m\u001b[0;34m(\u001b[0m\u001b[0;34m)\u001b[0m\u001b[0;34m\u001b[0m\u001b[0;34m\u001b[0m\u001b[0m\n\u001b[1;32m      9\u001b[0m \u001b[0;34m\u001b[0m\u001b[0m\n",
            "\u001b[0;31mNameError\u001b[0m: name 'trainloader' is not defined"
          ]
        }
      ]
    },
    {
      "cell_type": "code",
      "metadata": {
        "id": "X12cfdXL44hS"
      },
      "source": [
        "tensorboard --logdir=runs"
      ],
      "execution_count": null,
      "outputs": []
    }
  ]
}