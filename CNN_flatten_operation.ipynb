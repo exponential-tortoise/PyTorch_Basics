{
  "nbformat": 4,
  "nbformat_minor": 0,
  "metadata": {
    "colab": {
      "name": "CNN_flatten_operation.ipynb",
      "provenance": [],
      "authorship_tag": "ABX9TyNsu4a3SqooeJ3/ALnBBH2r"
    },
    "kernelspec": {
      "name": "python3",
      "display_name": "Python 3"
    }
  },
  "cells": [
    {
      "cell_type": "code",
      "metadata": {
        "id": "trptF1X5ndUy",
        "colab_type": "code",
        "colab": {}
      },
      "source": [
        "import torch \n"
      ],
      "execution_count": 2,
      "outputs": []
    },
    {
      "cell_type": "code",
      "metadata": {
        "id": "o0WvIDzgnxVj",
        "colab_type": "code",
        "colab": {}
      },
      "source": [
        "t1 = torch.tensor([\n",
        "    [1,1,1,1],\n",
        "    [1,1,1,1],\n",
        "    [1,1,1,1],\n",
        "    [1,1,1,1]\n",
        "])\n",
        "\n",
        "t2 = torch.tensor([\n",
        "    [2,2,2,2],\n",
        "    [2,2,2,2],\n",
        "    [2,2,2,2],\n",
        "    [2,2,2,2]\n",
        "])\n",
        "\n",
        "t3 = torch.tensor([\n",
        "    [3,3,3,3],\n",
        "    [3,3,3,3],\n",
        "    [3,3,3,3],\n",
        "    [3,3,3,3]\n",
        "])"
      ],
      "execution_count": 3,
      "outputs": []
    },
    {
      "cell_type": "code",
      "metadata": {
        "id": "9F2IomLqoNRc",
        "colab_type": "code",
        "colab": {
          "base_uri": "https://localhost:8080/",
          "height": 34
        },
        "outputId": "5231f219-275f-4a3f-d7e8-d125dcb80a19"
      },
      "source": [
        "t=torch.stack((t1,t2,t3))\n",
        "t.shape"
      ],
      "execution_count": 4,
      "outputs": [
        {
          "output_type": "execute_result",
          "data": {
            "text/plain": [
              "torch.Size([3, 4, 4])"
            ]
          },
          "metadata": {
            "tags": []
          },
          "execution_count": 4
        }
      ]
    },
    {
      "cell_type": "code",
      "metadata": {
        "id": "oW1kYie-Fqi7",
        "colab_type": "code",
        "colab": {
          "base_uri": "https://localhost:8080/",
          "height": 260
        },
        "outputId": "99177c3b-ac81-428c-9a95-19de3b1be65c"
      },
      "source": [
        "t"
      ],
      "execution_count": 5,
      "outputs": [
        {
          "output_type": "execute_result",
          "data": {
            "text/plain": [
              "tensor([[[1, 1, 1, 1],\n",
              "         [1, 1, 1, 1],\n",
              "         [1, 1, 1, 1],\n",
              "         [1, 1, 1, 1]],\n",
              "\n",
              "        [[2, 2, 2, 2],\n",
              "         [2, 2, 2, 2],\n",
              "         [2, 2, 2, 2],\n",
              "         [2, 2, 2, 2]],\n",
              "\n",
              "        [[3, 3, 3, 3],\n",
              "         [3, 3, 3, 3],\n",
              "         [3, 3, 3, 3],\n",
              "         [3, 3, 3, 3]]])"
            ]
          },
          "metadata": {
            "tags": []
          },
          "execution_count": 5
        }
      ]
    },
    {
      "cell_type": "code",
      "metadata": {
        "id": "8W-ZeM3cFzUr",
        "colab_type": "code",
        "colab": {}
      },
      "source": [
        "t=t.reshape(3,1,4,4)"
      ],
      "execution_count": 12,
      "outputs": []
    },
    {
      "cell_type": "code",
      "metadata": {
        "id": "O578hga_Ge0E",
        "colab_type": "code",
        "colab": {
          "base_uri": "https://localhost:8080/",
          "height": 86
        },
        "outputId": "037f64f6-0191-405d-d15c-856f151076ff"
      },
      "source": [
        "t[0]"
      ],
      "execution_count": 13,
      "outputs": [
        {
          "output_type": "execute_result",
          "data": {
            "text/plain": [
              "tensor([[[1, 1, 1, 1],\n",
              "         [1, 1, 1, 1],\n",
              "         [1, 1, 1, 1],\n",
              "         [1, 1, 1, 1]]])"
            ]
          },
          "metadata": {
            "tags": []
          },
          "execution_count": 13
        }
      ]
    },
    {
      "cell_type": "code",
      "metadata": {
        "id": "YxB94vmDGgb1",
        "colab_type": "code",
        "colab": {
          "base_uri": "https://localhost:8080/",
          "height": 86
        },
        "outputId": "d86845ae-5dec-4050-b25c-91c307a0e514"
      },
      "source": [
        "t[0][0]"
      ],
      "execution_count": 14,
      "outputs": [
        {
          "output_type": "execute_result",
          "data": {
            "text/plain": [
              "tensor([[1, 1, 1, 1],\n",
              "        [1, 1, 1, 1],\n",
              "        [1, 1, 1, 1],\n",
              "        [1, 1, 1, 1]])"
            ]
          },
          "metadata": {
            "tags": []
          },
          "execution_count": 14
        }
      ]
    },
    {
      "cell_type": "code",
      "metadata": {
        "id": "36sbmojGGjTI",
        "colab_type": "code",
        "colab": {
          "base_uri": "https://localhost:8080/",
          "height": 34
        },
        "outputId": "29fe4bc7-007b-4e07-affd-68a0ea086bfa"
      },
      "source": [
        "t[0][0][0]"
      ],
      "execution_count": 15,
      "outputs": [
        {
          "output_type": "execute_result",
          "data": {
            "text/plain": [
              "tensor([1, 1, 1, 1])"
            ]
          },
          "metadata": {
            "tags": []
          },
          "execution_count": 15
        }
      ]
    },
    {
      "cell_type": "code",
      "metadata": {
        "id": "n6e6-IiJGwaY",
        "colab_type": "code",
        "colab": {
          "base_uri": "https://localhost:8080/",
          "height": 34
        },
        "outputId": "b3537f37-8322-415c-f29e-c97e3287c06a"
      },
      "source": [
        "t[0][0][0][0]"
      ],
      "execution_count": 16,
      "outputs": [
        {
          "output_type": "execute_result",
          "data": {
            "text/plain": [
              "tensor(1)"
            ]
          },
          "metadata": {
            "tags": []
          },
          "execution_count": 16
        }
      ]
    },
    {
      "cell_type": "code",
      "metadata": {
        "id": "x1YCPrprJGLw",
        "colab_type": "code",
        "colab": {
          "base_uri": "https://localhost:8080/",
          "height": 34
        },
        "outputId": "67bd3ec7-00ee-4488-d976-cb0e4dd4f156"
      },
      "source": [
        "t.flatten(start_dim=1).shape"
      ],
      "execution_count": 17,
      "outputs": [
        {
          "output_type": "execute_result",
          "data": {
            "text/plain": [
              "torch.Size([3, 16])"
            ]
          },
          "metadata": {
            "tags": []
          },
          "execution_count": 17
        }
      ]
    },
    {
      "cell_type": "code",
      "metadata": {
        "id": "ODi8iPJ-JOV2",
        "colab_type": "code",
        "colab": {
          "base_uri": "https://localhost:8080/",
          "height": 69
        },
        "outputId": "7a4fb795-0bd6-4777-9f76-dab07471055e"
      },
      "source": [
        "t.flatten(start_dim=1)"
      ],
      "execution_count": 18,
      "outputs": [
        {
          "output_type": "execute_result",
          "data": {
            "text/plain": [
              "tensor([[1, 1, 1, 1, 1, 1, 1, 1, 1, 1, 1, 1, 1, 1, 1, 1],\n",
              "        [2, 2, 2, 2, 2, 2, 2, 2, 2, 2, 2, 2, 2, 2, 2, 2],\n",
              "        [3, 3, 3, 3, 3, 3, 3, 3, 3, 3, 3, 3, 3, 3, 3, 3]])"
            ]
          },
          "metadata": {
            "tags": []
          },
          "execution_count": 18
        }
      ]
    },
    {
      "cell_type": "markdown",
      "metadata": {
        "id": "4Qqgh3c5Lf-D",
        "colab_type": "text"
      },
      "source": [
        "Flattening an RGB  image "
      ]
    },
    {
      "cell_type": "code",
      "metadata": {
        "id": "de6enJ5pLdqF",
        "colab_type": "code",
        "colab": {
          "base_uri": "https://localhost:8080/",
          "height": 86
        },
        "outputId": "bc6f88d2-0b75-4c4e-b267-1ac67f02cb89"
      },
      "source": [
        "r=torch.ones(1,2,2)\n",
        "\n",
        "print(r)\n",
        "\n",
        "g=torch.ones(1,2,2)+1\n",
        "\n",
        "print(g)\n",
        "\n",
        "b=torch.ones(1,2,2)+2\n"
      ],
      "execution_count": 21,
      "outputs": [
        {
          "output_type": "stream",
          "text": [
            "tensor([[[1., 1.],\n",
            "         [1., 1.]]])\n",
            "tensor([[[2., 2.],\n",
            "         [2., 2.]]])\n"
          ],
          "name": "stdout"
        }
      ]
    },
    {
      "cell_type": "code",
      "metadata": {
        "id": "_NLnNRtcLirF",
        "colab_type": "code",
        "colab": {
          "base_uri": "https://localhost:8080/",
          "height": 156
        },
        "outputId": "593af712-4668-4f3c-f316-d5bab0874b57"
      },
      "source": [
        "img=torch.cat(\n",
        "    (r,g,b),\n",
        "    dim=0\n",
        ")\n",
        "\n",
        "print(img)"
      ],
      "execution_count": 23,
      "outputs": [
        {
          "output_type": "stream",
          "text": [
            "tensor([[[1., 1.],\n",
            "         [1., 1.]],\n",
            "\n",
            "        [[2., 2.],\n",
            "         [2., 2.]],\n",
            "\n",
            "        [[3., 3.],\n",
            "         [3., 3.]]])\n"
          ],
          "name": "stdout"
        }
      ]
    },
    {
      "cell_type": "code",
      "metadata": {
        "id": "yd8mNGz0MRyJ",
        "colab_type": "code",
        "colab": {
          "base_uri": "https://localhost:8080/",
          "height": 34
        },
        "outputId": "b13a602b-a68e-497f-a83b-657c53a0e237"
      },
      "source": [
        "img.flatten(start_dim=0)"
      ],
      "execution_count": 24,
      "outputs": [
        {
          "output_type": "execute_result",
          "data": {
            "text/plain": [
              "tensor([1., 1., 1., 1., 2., 2., 2., 2., 3., 3., 3., 3.])"
            ]
          },
          "metadata": {
            "tags": []
          },
          "execution_count": 24
        }
      ]
    },
    {
      "cell_type": "code",
      "metadata": {
        "id": "UNmYn2swMWdx",
        "colab_type": "code",
        "colab": {
          "base_uri": "https://localhost:8080/",
          "height": 69
        },
        "outputId": "3ac5f84d-65d3-4c48-8e52-f61b7dbdebdc"
      },
      "source": [
        "img.flatten(start_dim=1)"
      ],
      "execution_count": 25,
      "outputs": [
        {
          "output_type": "execute_result",
          "data": {
            "text/plain": [
              "tensor([[1., 1., 1., 1.],\n",
              "        [2., 2., 2., 2.],\n",
              "        [3., 3., 3., 3.]])"
            ]
          },
          "metadata": {
            "tags": []
          },
          "execution_count": 25
        }
      ]
    }
  ]
}