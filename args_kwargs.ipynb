{
  "nbformat": 4,
  "nbformat_minor": 0,
  "metadata": {
    "colab": {
      "name": "args-kwargs.ipynb",
      "provenance": [],
      "authorship_tag": "ABX9TyOeNPsWY6JkYhr2heu8Jfvf",
      "include_colab_link": true
    },
    "kernelspec": {
      "name": "python3",
      "display_name": "Python 3"
    },
    "language_info": {
      "name": "python"
    }
  },
  "cells": [
    {
      "cell_type": "markdown",
      "metadata": {
        "id": "view-in-github",
        "colab_type": "text"
      },
      "source": [
        "<a href=\"https://colab.research.google.com/github/rajoy99/PyTorch_Basics/blob/master/args_kwargs.ipynb\" target=\"_parent\"><img src=\"https://colab.research.google.com/assets/colab-badge.svg\" alt=\"Open In Colab\"/></a>"
      ]
    },
    {
      "cell_type": "code",
      "metadata": {
        "colab": {
          "base_uri": "https://localhost:8080/"
        },
        "id": "-OUlIbz8QSb8",
        "outputId": "ff473e9b-ba73-4c06-c445-30874a6627a7"
      },
      "source": [
        "\n",
        "def average(*args):\n",
        "\n",
        "  ls=list(args)\n",
        "\n",
        "\n",
        "  return sum(ls)/len(ls)\n",
        "\n",
        "\n",
        "average(1,2,3,4,5)"
      ],
      "execution_count": 13,
      "outputs": [
        {
          "output_type": "execute_result",
          "data": {
            "text/plain": [
              "3.0"
            ]
          },
          "metadata": {
            "tags": []
          },
          "execution_count": 13
        }
      ]
    },
    {
      "cell_type": "code",
      "metadata": {
        "colab": {
          "base_uri": "https://localhost:8080/"
        },
        "id": "yYTSo6IpQtZn",
        "outputId": "d50c36d2-cc0c-40f6-f83f-8b41a7149d64"
      },
      "source": [
        "def force(t,**kwargs):\n",
        "\n",
        "  print(kwargs)\n",
        "\n",
        "\n",
        "  m=kwargs['mass']\n",
        "  a=kwargs['acc']\n",
        "\n",
        "  return m*a\n",
        "\n",
        "\n",
        "force(1,mass=10,acc=5)"
      ],
      "execution_count": 16,
      "outputs": [
        {
          "output_type": "stream",
          "text": [
            "{'mass': 10, 'acc': 5}\n"
          ],
          "name": "stdout"
        },
        {
          "output_type": "execute_result",
          "data": {
            "text/plain": [
              "50"
            ]
          },
          "metadata": {
            "tags": []
          },
          "execution_count": 16
        }
      ]
    }
  ]
}